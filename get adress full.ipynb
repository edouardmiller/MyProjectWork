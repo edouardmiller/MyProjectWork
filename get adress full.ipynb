{
 "cells": [
  {
   "cell_type": "code",
   "execution_count": 5,
   "id": "b141af5e",
   "metadata": {},
   "outputs": [],
   "source": [
    "import pandas as pd\n",
    "import re"
   ]
  },
  {
   "cell_type": "code",
   "execution_count": 2,
   "id": "b76acd10",
   "metadata": {},
   "outputs": [],
   "source": [
    "data = pd.read_excel('/Адреса 1951.xlsx')"
   ]
  },
  {
   "cell_type": "code",
   "execution_count": 4,
   "id": "5d44f556",
   "metadata": {},
   "outputs": [
    {
     "data": {
      "text/plain": [
       "0              0 Советск 10\n",
       "1            1 Красноарм 11\n",
       "2            1 Красноарм 12\n",
       "3            1 Красноарм 14\n",
       "4            1 Красноарм 16\n",
       "                ...        \n",
       "12772    шоссе Революции 35\n",
       "12773    шоссе Революции 72\n",
       "12774    шоссе Революции 74\n",
       "12775    шоссе Революции 77\n",
       "12776          яр Сталина 4\n",
       "Name: Адрес, Length: 12777, dtype: object"
      ]
     },
     "execution_count": 4,
     "metadata": {},
     "output_type": "execute_result"
    }
   ],
   "source": [
    "data['Адрес']"
   ]
  },
  {
   "cell_type": "code",
   "execution_count": 30,
   "id": "bea7853c",
   "metadata": {},
   "outputs": [
    {
     "data": {
      "text/plain": [
       "'/dd'"
      ]
     },
     "execution_count": 30,
     "metadata": {},
     "output_type": "execute_result"
    }
   ],
   "source": [
    "res = 'dddd'\n",
    "if len(res) == 4:\n",
    "    res = res[0:2] + '/' + res[2:4]\n",
    "res[2:]"
   ]
  },
  {
   "cell_type": "code",
   "execution_count": 40,
   "id": "4890ccdc",
   "metadata": {},
   "outputs": [],
   "source": [
    "def num(x):\n",
    "    indx = re.search(r\"\\d\", x)\n",
    "    if indx is not None:\n",
    "        indx = indx.start()\n",
    "        if indx > 0:\n",
    "            res = x[indx:]\n",
    "            if len(res) == 4:\n",
    "                res = res[0:2] + '/' + res[2:4]\n",
    "            return(res)\n",
    "    else:\n",
    "        res = ''.join([i for i in x.split() if i.isdigit()])\n",
    "        if len(res) == 4:\n",
    "            res = res[0:2] + '/' + res[2:4]\n",
    "        return(res)\n",
    "data['Nomer'] = data['Адрес'].str.partition(' ')[2].apply(lambda x: num(x))"
   ]
  },
  {
   "cell_type": "code",
   "execution_count": 41,
   "id": "66b11c4e",
   "metadata": {},
   "outputs": [],
   "source": [
    "data['Полный адрес'] = data['Нормализованная улица'] + ' '+ data['Nomer']"
   ]
  },
  {
   "cell_type": "code",
   "execution_count": 43,
   "id": "d78db06e",
   "metadata": {},
   "outputs": [],
   "source": [
    "data.to_excel('Адреса полные.xlsx', index_label=False)"
   ]
  },
  {
   "cell_type": "code",
   "execution_count": null,
   "id": "a930b4bd",
   "metadata": {},
   "outputs": [],
   "source": []
  }
 ],
 "metadata": {
  "kernelspec": {
   "display_name": "Python 3 (ipykernel)",
   "language": "python",
   "name": "python3"
  },
  "language_info": {
   "codemirror_mode": {
    "name": "ipython",
    "version": 3
   },
   "file_extension": ".py",
   "mimetype": "text/x-python",
   "name": "python",
   "nbconvert_exporter": "python",
   "pygments_lexer": "ipython3",
   "version": "3.9.6"
  }
 },
 "nbformat": 4,
 "nbformat_minor": 5
}
